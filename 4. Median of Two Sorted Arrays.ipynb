{
 "cells": [
  {
   "cell_type": "markdown",
   "metadata": {},
   "source": [
    "# Median of Two Sorted Arrays\n",
    "\n",
    "Given two sorted arrays nums1 and nums2 of size m and n respectively, return the median of the two sorted arrays.\n",
    "\n",
    "The overall run time complexity should be O(log (m+n))."
   ]
  },
  {
   "cell_type": "markdown",
   "metadata": {},
   "source": [
    "## 合并新数组\n",
    "\n",
    "> 时间复杂度：$O((m + n) \\log(m + n))$\n",
    ">\n",
    "> 空间复杂度: $O(m + n)$\n",
    ">\n",
    "> 介绍: 代码里首先把两个输入数组 `nums1` 和 `nums2` 合并成一个新数组 `numbers`，这个操作的时间复杂度为 $O(m + n)$，这里的 $m$ 和 $n$ 分别代表 `nums1` 和 `nums2` 的长度。接着对合并后的数组 `numbers` 进行排序，使用 Python 内置的 `sorted` 函数，它的平均时间复杂度是 $O((m + n) \\log(m + n))$。最后，依据数组长度的奇偶性来计算中位数，此操作的时间复杂度为 $O(1)$。所以，整体的时间复杂度由排序操作决定，是 $O((m + n) \\log(m + n))$。空间复杂度方面，合并数组时需要额外的空间来存储合并后的数组，该数组长度为 $m + n$，所以空间复杂度为 $O(m + n)$。 "
   ]
  },
  {
   "cell_type": "code",
   "execution_count": 15,
   "metadata": {},
   "outputs": [
    {
     "name": "stdout",
     "output_type": "stream",
     "text": [
      "两个有序数组的中位数是: 2.0\n"
     ]
    }
   ],
   "source": [
    "class Solution(object):\n",
    "    def findMedianSortedArrays(self, nums1, nums2):\n",
    "        # 合并两个输入的有序数组\n",
    "        numbers = nums1 + nums2\n",
    "        # 对合并后的数组进行排序\n",
    "        data = sorted(numbers)\n",
    "        # 计算排序后数组的长度\n",
    "        length = len(data)\n",
    "        if length % 2 == 1:\n",
    "            # 当数组长度为奇数时，中位数是中间位置的元素\n",
    "            # 使用 // 运算符确保得到的索引是整数，因为索引必须是整数类型\n",
    "            # 最后将该元素转换为浮点数类型，以确保结果为浮点数\n",
    "            result = float(data[length // 2])\n",
    "        else:\n",
    "            # 当数组长度为偶数时，中位数是中间两个元素的平均值\n",
    "            # 先使用 // 运算符分别获取中间两个元素的索引\n",
    "            # 计算这两个元素的和\n",
    "            # 这里除以 2.0 是为了确保在 Python 2 和 Python 3 中都能得到正确的除法结果\n",
    "            # 在 Python 2 中，使用 / 进行整数除法时会向下取整，例如 3 / 2 会得到 1\n",
    "            # 而使用 2.0 作为除数，会将除法运算转换为浮点数除法，3 / 2.0 会得到 1.5\n",
    "            # 在 Python 3 中，/ 运算符本身就是真除法，使用 2.0 作为除数也不会影响结果\n",
    "            result = float((data[length // 2 - 1] + data[length // 2]) / 2.0)\n",
    "        return result\n",
    "    \n",
    "# 创建 Solution 类的实例\n",
    "solution = Solution()\n",
    "# 定义两个有序数组\n",
    "nums1 = [1,2,2]\n",
    "nums2 = [1,2,2,2,2,2,2,4]\n",
    "# 调用 findMedianSortedArrays 方法并传入参数\n",
    "result = solution.findMedianSortedArrays(nums1, nums2)\n",
    "# 输出结果\n",
    "print(f\"两个有序数组的中位数是: {result}\")"
   ]
  }
 ],
 "metadata": {
  "kernelspec": {
   "display_name": "Project1",
   "language": "python",
   "name": "python3"
  },
  "language_info": {
   "codemirror_mode": {
    "name": "ipython",
    "version": 3
   },
   "file_extension": ".py",
   "mimetype": "text/x-python",
   "name": "python",
   "nbconvert_exporter": "python",
   "pygments_lexer": "ipython3",
   "version": "3.12.9"
  }
 },
 "nbformat": 4,
 "nbformat_minor": 2
}
