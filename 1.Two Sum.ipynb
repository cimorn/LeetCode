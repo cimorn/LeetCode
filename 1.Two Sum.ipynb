{
 "cells": [
  {
   "cell_type": "markdown",
   "metadata": {},
   "source": [
    "# Two Sum\n",
    "\n",
    "Given an array of integers nums and an integer target, return indices of the two numbers such that they add up to target.\n",
    "\n",
    "You may assume that each input would have exactly one solution, and you may not use the same element twice.\n",
    "\n",
    "You can return the answer in any order."
   ]
  },
  {
   "cell_type": "markdown",
   "metadata": {},
   "source": [
    "## 循环加查找改进-使用哈希表\n",
    "\n",
    "> 复杂度:O(N)\n",
    ">\n",
    "> 哈希表的特点是可以在平均O(1)的时间复杂度内完成元素的查找操作\n",
    "> \n",
    "> 通过遍历列表，利用字典来记录已经遍历过的元素及其索引，在每次循环中计算目标值与当前元素的差值，并检查这个差值是否在字典中，从而快速找到满足两数之和等于目标值的两个数及其索引。"
   ]
  },
  {
   "cell_type": "code",
   "execution_count": null,
   "metadata": {},
   "outputs": [],
   "source": [
    "class Solution(object):\n",
    "    def twoSum(self, nums, target):\n",
    "        new_dict={}\n",
    "        # 定义字典\n",
    "        length=len(nums)\n",
    "        for i in range(length):\n",
    "            judge=target-nums[i]\n",
    "            if judge in new_dict:\n",
    "                # 判断Key值在不在字典里\n",
    "                return new_dict[judge],i\n",
    "                # 返回字段的value, 刚开始字典为空, 后面是查找前面的\n",
    "            new_dict[nums[i]]=i\n",
    "            # 把没有查到的数复制到字典中"
   ]
  },
  {
   "cell_type": "markdown",
   "metadata": {},
   "source": [
    "## 循环加查找\n",
    "\n",
    "> 复杂度:O(N^2)\n",
    ">\n",
    "> 在`if judge in nums`这一步, 时间复杂度为O(n)\n",
    ">\n",
    "> 遍历列表中的每个元素，计算与目标值的差值，并在列表中查找该差值，从而找到两个数，使它们的和等于给定的目标值。"
   ]
  },
  {
   "cell_type": "code",
   "execution_count": null,
   "metadata": {},
   "outputs": [],
   "source": [
    "class Solution(object):\n",
    "    def twoSum(self, nums, target):\n",
    "        length=len(nums)\n",
    "        # 取出有多少个数\n",
    "        for i in range(length):\n",
    "            # 从1开始到n便利计算\n",
    "            judge=target-nums[i]\n",
    "             # 查找是否在里面\n",
    "            if judge in nums:\n",
    "                # 用于判断是否相等\n",
    "                return i,nums.index(judge)\n",
    "                    # 如果相等, 返回i和j"
   ]
  },
  {
   "cell_type": "markdown",
   "metadata": {},
   "source": [
    "## 两层循环\n",
    "\n",
    "> 复杂度：O(N^2)\n",
    ">\n",
    "> 两次循环 O(N)*O(N)\n",
    ">\n",
    "> 遍历列表中的所有数对，找到和等于目标值的那对数，并返回它们的索引"
   ]
  },
  {
   "cell_type": "code",
   "execution_count": null,
   "metadata": {},
   "outputs": [],
   "source": [
    "class Solution(object):\n",
    "    def twoSum(self, nums, target):\n",
    "        \"\"\"\n",
    "        :type nums: List[int]\n",
    "        :type target: int\n",
    "        :rtype: List[int]\n",
    "        \"\"\"\n",
    "        length=len(nums)\n",
    "        # 取出有多少个数\n",
    "        for i in range(length):\n",
    "            # 从1开始到n便利计算\n",
    "            for j in range(i+1,length):\n",
    "            # 用于判断是否相等\n",
    "                if nums[i]+nums[j]==target:\n",
    "                    # 如果相等, 返回i和j\n",
    "                    return i,j"
   ]
  }
 ],
 "metadata": {
  "kernelspec": {
   "display_name": "Project1",
   "language": "python",
   "name": "python3"
  },
  "language_info": {
   "codemirror_mode": {
    "name": "ipython",
    "version": 3
   },
   "file_extension": ".py",
   "mimetype": "text/x-python",
   "name": "python",
   "nbconvert_exporter": "python",
   "pygments_lexer": "ipython3",
   "version": "3.12.9"
  }
 },
 "nbformat": 4,
 "nbformat_minor": 2
}
