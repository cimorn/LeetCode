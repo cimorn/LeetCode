{
 "cells": [
  {
   "cell_type": "markdown",
   "metadata": {},
   "source": [
    "# Add Two Number\n",
    "\n",
    "You are given two non-empty linked lists representing two non-negative integers. The digits are stored in reverse order, and each of their nodes contains a single digit. Add the two numbers and return the sum as a linked list.\n",
    "\n",
    "You may assume the two numbers do not contain any leading zero, except the number 0 itself."
   ]
  },
  {
   "cell_type": "markdown",
   "metadata": {},
   "source": [
    "## 链表相加\n",
    "\n",
    "> 复杂度: $O(\\text{Max}(M, N))$，其中 $M$ 和 $N$ 分别是两个链表的长度。\n",
    ">\n",
    "> 通过遍历两个链表，使用一个变量来记录进位，在每次循环中计算当前位的和并更新进位，从而快速得到两个链表所代表数字相加的结果链表。\n",
    "> \n",
    "> 具体做法是创建一个虚拟头节点方便操作，使用一个指针指向当前处理的结果链表节点。在遍历过程中，获取两个链表当前节点的值（若节点为空则取 0），计算当前位的和（包含上一轮的进位），确定当前位的值并创建新节点添加到结果链表中，同时更新进位。不断移动链表指针和结果链表指针，直到两个链表都遍历完且没有进位为止。"
   ]
  },
  {
   "cell_type": "code",
   "execution_count": null,
   "metadata": {},
   "outputs": [],
   "source": [
    "class Solution(object):\n",
    "    def addTwoNumbers(self, l1, l2):\n",
    "        # 将链表转换为数字\n",
    "        result=ListNode()\n",
    "        # 虚拟节点\n",
    "        now=result\n",
    "        # 遍历指针\n",
    "        remind=0\n",
    "        # 用于进位数\n",
    "        while l1 or l2 or remind:\n",
    "            val1 = l1.val if l1 else 0\n",
    "            val2 = l2.val if l2 else 0\n",
    "            # 考虑值是否为空\n",
    "            now.next=ListNode((val1 + val2 + remind) % 10)\n",
    "            # 创建新节点并连接到当前链表尾部\n",
    "            # 赋值个位,把结果指向now的下一位，比如 now->7, 指针此时在now上\n",
    "            remind=(val1+val2+remind)//10\n",
    "            # 进位数\n",
    "            now=now.next\n",
    "            # 指向now的下一位\n",
    "            if l1:\n",
    "                l1=l1.next\n",
    "            if l2:\n",
    "                l2=l2.next            \n",
    "            # 移动指针\n",
    "        return result.next\n",
    "        # 返回resul之后的指针"
   ]
  },
  {
   "cell_type": "markdown",
   "metadata": {},
   "source": [
    "## 递归实现\n",
    "\n",
    "> 复杂度: $O(\\text{Max}(M, N))$，其中 $M$ 和 $N$ 分别是两个链表的长度。\n",
    ">\n",
    "> 通过递归方式处理两个链表，利用一个变量记录进位。在每次递归调用时，计算当前位的和并更新进位，以此构建出两个链表所代表数字相加的结果链表。\n",
    "> \n",
    "> 具体做法是：在递归函数中，先获取两个链表当前节点的值（若节点为空则取 0 ），计算当前位的和（含进位），确定当前位的值并更新进位。接着获取两个链表的下一个节点，若下一个节点存在或者进位不为 0 ，则递归调用函数处理后续节点并构建链表；若下一个节点都不存在且进位为 0 ，则结束递归，返回当前节点。 "
   ]
  },
  {
   "cell_type": "code",
   "execution_count": null,
   "metadata": {},
   "outputs": [],
   "source": [
    "class Solution(object):\n",
    "    def addTwoNumbers(self, l1, l2,remind=0):\n",
    "        #   remind 用于进位数\n",
    "\n",
    "        val1 = l1.val if l1 else 0\n",
    "        val2 = l2.val if l2 else 0\n",
    "        # 考虑值是否为空\n",
    "        val=(val1 + val2 + remind) % 10\n",
    "        # 新的值\n",
    "        remind=1 if val1+val2+remind>=10 else 0\n",
    "        # 进位数 要么是1要么是0 \n",
    "        next1=l1.next if l1 else None\n",
    "        next2=l2.next if l2 else None   \n",
    "        # 如果l1为空，赋值空，不为空赋值下一个     \n",
    "        if next1 or next2 or remind:\n",
    "            return ListNode(val,self.addTwoNumbers(next1,next2,remind))\n",
    "        # 把后面的节点进行递归\n",
    "        return ListNode(val)"
   ]
  },
  {
   "cell_type": "markdown",
   "metadata": {},
   "source": [
    "## 递归改进\n",
    "\n",
    "> 复杂度: $O(N)$\n",
    ">\n",
    "> 借助递归的方式遍历两个链表，使用一个参数来记录进位，在每次递归调用中计算当前位的和并更新进位，进而快速得到两个链表所代表数字相加的结果链表。\n",
    "> \n",
    "> 先判断递归终止条件，即当两个链表都遍历完且没有进位时，返回 `None`。若不满足终止条件，则获取两个链表当前节点的值（若节点为空则取 0），计算当前位的和（包含上一轮的进位），确定当前位的值。\n",
    "> \n",
    "> 接着计算新的进位，然后递归调用函数处理两个链表的下一个节点以及新的进位，最后将当前位的值作为新节点的值，并将递归调用返回的链表作为该新节点的后续节点返回。 "
   ]
  },
  {
   "cell_type": "code",
   "execution_count": 39,
   "metadata": {},
   "outputs": [],
   "source": [
    "class Solution:\n",
    "    def addTwoNumbers(self, l1, l2, carry=0):\n",
    "        # 递归终止条件：当两个链表都遍历完且没有进位时，递归结束\n",
    "        if not l1 and not l2 and carry == 0:\n",
    "            return None\n",
    "\n",
    "        # 获取 l1 当前节点的值，如果 l1 为空则值为 0\n",
    "        digit1 = l1.val if l1 else 0\n",
    "        # 获取 l2 当前节点的值，如果 l2 为空则值为 0\n",
    "        digit2 = l2.val if l2 else 0\n",
    "        # 计算当前位的和，包含上一轮的进位\n",
    "        total = digit1 + digit2 + carry\n",
    "        # 计算当前位最终要存储的值，即总和对 10 取余\n",
    "        digit = total % 10\n",
    "        # 计算新的进位，即总和除以 10 取整\n",
    "        new_carry = total // 10\n",
    "\n",
    "        # 获取 l1 的下一个节点，如果 l1 为空则为 None\n",
    "        next1 = l1.next if l1 else None\n",
    "        # 获取 l2 的下一个节点，如果 l2 为空则为 None\n",
    "        next2 = l2.next if l2 else None\n",
    "\n",
    "        # 创建当前位的节点，其值为 digit\n",
    "        # 并递归调用 addTwoNumbers 函数处理下一位，将返回结果作为当前节点的下一个节点\n",
    "        return ListNode(digit, self.addTwoNumbers(next1, next2, new_carry))"
   ]
  }
 ],
 "metadata": {
  "kernelspec": {
   "display_name": "Project1",
   "language": "python",
   "name": "python3"
  },
  "language_info": {
   "codemirror_mode": {
    "name": "ipython",
    "version": 3
   },
   "file_extension": ".py",
   "mimetype": "text/x-python",
   "name": "python",
   "nbconvert_exporter": "python",
   "pygments_lexer": "ipython3",
   "version": "3.12.9"
  }
 },
 "nbformat": 4,
 "nbformat_minor": 2
}
