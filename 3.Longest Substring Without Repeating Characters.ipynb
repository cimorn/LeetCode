{
 "cells": [
  {
   "cell_type": "markdown",
   "metadata": {},
   "source": [
    "# Longest Substring Without Repeating Characters\n",
    "\n",
    "Given a string s, find the length of the longest substring without duplicate characters."
   ]
  },
  {
   "cell_type": "markdown",
   "metadata": {},
   "source": [
    "## 反复更新最大长度\n",
    "\n",
    "> 时间复杂度：$O(n)$，$n$ 为字符串 $s$ 的长度，因仅对字符串遍历一次。\n",
    ">\n",
    "> 间复杂度: $O(m)$，$m$ 是字符串中不同字符数量，最坏情况存所有不同字符。\n",
    ">\n",
    "> 此算法用于求字符串中无重复字符的最长子串长度。用滑动窗口 `result` 维护无重复子串。遍历字符串时，若字符已在 `result` 中，截断 `result` 保证无重复；若不在则添加。每次更新 `result` 后，更新最长长度 `max_length`，最后返回该值。 "
   ]
  },
  {
   "cell_type": "code",
   "execution_count": null,
   "metadata": {},
   "outputs": [
    {
     "data": {
      "text/plain": [
       "4"
      ]
     },
     "execution_count": 9,
     "metadata": {},
     "output_type": "execute_result"
    }
   ],
   "source": [
    "class Solution(object):\n",
    "    def lengthOfLongestSubstring(self, s, max_length=0):\n",
    "        # 初始化一个空字符串 result，用于存储当前正在处理的无重复字符子串\n",
    "        result = \"\"\n",
    "        # 开始遍历输入字符串 s 中的每个字符\n",
    "        for char in s:\n",
    "            # 检查当前字符 char 是否已经存在于 result 中\n",
    "            if char in result:\n",
    "                # 如果存在，找到 char 在 result 中第一次出现的索引位置\n",
    "                index = result.index(char)\n",
    "                # 截断 result，从重复字符的下一个位置开始截取，并将当前字符 char 添加到后面\n",
    "                # 这样做是为了确保 result 中不包含重复字符\n",
    "                result = result[index + 1:] + char\n",
    "            else:\n",
    "                # 如果当前字符 char 不在 result 中，直接将其添加到 result 的末尾\n",
    "                result = result + char\n",
    "            # 比较当前无重复字符子串的长度 len(result) 和之前记录的最长长度 max_length\n",
    "            # 取两者中的最大值更新 max_length\n",
    "            max_length = max(max_length, len(result))\n",
    "        # 遍历结束后，返回记录的最长无重复字符子串的长度\n",
    "        return max_length"
   ]
  }
 ],
 "metadata": {
  "kernelspec": {
   "display_name": "Project1",
   "language": "python",
   "name": "python3"
  },
  "language_info": {
   "codemirror_mode": {
    "name": "ipython",
    "version": 3
   },
   "file_extension": ".py",
   "mimetype": "text/x-python",
   "name": "python",
   "nbconvert_exporter": "python",
   "pygments_lexer": "ipython3",
   "version": "3.12.9"
  }
 },
 "nbformat": 4,
 "nbformat_minor": 2
}
